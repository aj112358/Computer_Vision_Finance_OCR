{
 "metadata": {
  "language_info": {
   "codemirror_mode": {
    "name": "ipython",
    "version": 3
   },
   "file_extension": ".py",
   "mimetype": "text/x-python",
   "name": "python",
   "nbconvert_exporter": "python",
   "pygments_lexer": "ipython3",
   "version": "3.7.3-final"
  },
  "orig_nbformat": 2,
  "kernelspec": {
   "name": "python37332bit73d4d0b24a684194aec8aea2380f49f0",
   "display_name": "Python 3.7.3 32-bit"
  }
 },
 "nbformat": 4,
 "nbformat_minor": 2,
 "cells": [
  {
   "cell_type": "code",
   "execution_count": 2,
   "metadata": {
    "tags": []
   },
   "outputs": [],
   "source": [
    "from sklearn.model_selection import train_test_split, GridSearchCV\n",
    "# from sklearn.svm import SVC\n",
    "# from sklearn.metrics import classification_report, confusion_matrix\n",
    "import os\n",
    "import numpy as np\n",
    "import cv2\n",
    "import ast"
   ]
  },
  {
   "cell_type": "code",
   "execution_count": 3,
   "metadata": {},
   "outputs": [],
   "source": [
    "LETTERS = ['A','B','C','D','E','F','G','H','I','J','K','L','M','N','O','P','Q','R','S','T','U','V','W','X','Y','Z']\n",
    "SMALL_LETTERS = [x.lower() for x in LETTERS]\n",
    "NUMBERS = ['0','1','2','3','4','5','6','7','8','9']\n",
    "SYMBOLS = ['@','$','&',',','period','-']"
   ]
  },
  {
   "cell_type": "code",
   "execution_count": 4,
   "metadata": {},
   "outputs": [],
   "source": [
    "# Import the data\n",
    "#### This cell takes ~90s to execute\n",
    "\n",
    "X = []\n",
    "y = []\n",
    "\n",
    "for letter in LETTERS:\n",
    "\n",
    "    with open(fr\".\\Uppercase\\{letter}\\{letter}.txt\", \"r\") as newfile:\n",
    "        \n",
    "        for i in range(35):\n",
    "            target, data = newfile.readline().split(\"::\")\n",
    "            data = ast.literal_eval(data)\n",
    "            y.append(target)\n",
    "            X.append(data)"
   ]
  },
  {
   "cell_type": "code",
   "execution_count": 6,
   "metadata": {
    "tags": []
   },
   "outputs": [
    {
     "output_type": "stream",
     "name": "stdout",
     "text": "A\n<class 'list'>\n"
    }
   ],
   "source": [
    "print(y[0])\n",
    "print(type(X[0]))"
   ]
  },
  {
   "cell_type": "code",
   "execution_count": 7,
   "metadata": {},
   "outputs": [],
   "source": [
    "# Split the data\n",
    "\n",
    "X_train, X_test, y_train, y_test = train_test_split(X, y, test_size=0.33, random_state=42)"
   ]
  },
  {
   "cell_type": "code",
   "execution_count": 8,
   "metadata": {
    "tags": []
   },
   "outputs": [
    {
     "output_type": "stream",
     "name": "stdout",
     "text": "['Y', 'M', 'J', 'V', 'W', 'X', 'O', 'H', 'Z', 'V', 'P', 'Z', 'B', 'E', 'I', 'U', 'A', 'M', 'S', 'O', 'I', 'G', 'G', 'N', 'N', 'X', 'K', 'T', 'T', 'I', 'B', 'N', 'G', 'U', 'J', 'S', 'R', 'A', 'J', 'O', 'G', 'K', 'B', 'C', 'V', 'G', 'I', 'C', 'K', 'L', 'V', 'S', 'N', 'R', 'H', 'C', 'D', 'D', 'W', 'P', 'Y', 'B', 'U', 'P', 'H', 'E', 'Z', 'O', 'Z', 'J', 'M', 'W', 'Q', 'U', 'J', 'M', 'Y', 'I', 'U', 'B', 'M', 'F', 'I', 'D', 'B', 'J', 'H', 'N', 'D', 'T', 'G', 'U', 'H', 'I', 'M', 'Q', 'X', 'C', 'H', 'I', 'E', 'G', 'L', 'X', 'J', 'R', 'Y', 'Q', 'V', 'Q', 'G', 'I', 'G', 'T', 'I', 'W', 'Q', 'P', 'Z', 'C', 'V', 'D', 'J', 'R', 'P', 'H', 'J', 'C', 'F', 'F', 'E', 'I', 'R', 'O', 'O', 'B', 'K', 'S', 'T', 'J', 'X', 'K', 'I', 'B', 'S', 'S', 'W', 'I', 'Z', 'I', 'N', 'A', 'A', 'T', 'L', 'O', 'Z', 'D', 'C', 'K', 'F', 'C', 'J', 'M', 'G', 'O', 'Y', 'P', 'A', 'B', 'P', 'R', 'J', 'T', 'C', 'U', 'V', 'Q', 'Y', 'M', 'W', 'A', 'C', 'A', 'R', 'H', 'Z', 'V', 'R', 'D', 'X', 'J', 'A', 'B', 'M', 'I', 'R', 'L', 'F', 'Q', 'C', 'K', 'K', 'Y', 'M', 'W', 'F', 'S', 'S', 'I', 'X', 'P', 'K', 'X', 'X', 'X', 'W', 'P', 'N', 'I', 'K', 'P', 'V', 'S', 'A', 'U', 'E', 'K', 'Q', 'C', 'F', 'U', 'O', 'I', 'U', 'U', 'V', 'V', 'L', 'A', 'N', 'Y', 'O', 'Z', 'E', 'P', 'Y', 'R', 'R', 'M', 'W', 'M', 'P', 'T', 'K', 'K', 'Q', 'P', 'S', 'G', 'C', 'E', 'L', 'L', 'O', 'L', 'Y', 'D', 'N', 'P', 'K', 'Q', 'S', 'T', 'L', 'M', 'K', 'Q', 'E', 'N', 'L', 'M', 'X', 'C', 'Y', 'F', 'N', 'X', 'B', 'D', 'W', 'V', 'D', 'E', 'A', 'X', 'F', 'J', 'Q', 'E', 'R']\n"
    }
   ],
   "source": [
    "print(y_test)"
   ]
  },
  {
   "cell_type": "code",
   "execution_count": null,
   "metadata": {},
   "outputs": [],
   "source": [
    "# Create & fit the model\n",
    "\n",
    " "
   ]
  },
  {
   "cell_type": "code",
   "execution_count": null,
   "metadata": {},
   "outputs": [],
   "source": [
    "# Evaluate the model (with training data)"
   ]
  },
  {
   "cell_type": "code",
   "execution_count": null,
   "metadata": {},
   "outputs": [],
   "source": [
    "# Create \"validation data\" to do final tests\n"
   ]
  }
 ]
}